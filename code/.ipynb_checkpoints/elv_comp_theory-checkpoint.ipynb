{
 "cells": [
  {
   "cell_type": "markdown",
   "metadata": {},
   "source": [
    "#  Theory for invasion and competition with metabolic mismatches"
   ]
  },
  {
   "cell_type": "code",
   "execution_count": 2,
   "metadata": {
    "collapsed": false
   },
   "outputs": [],
   "source": [
    "#Load some modules etc\n",
    "%matplotlib inline\n",
    "import matplotlib.pyplot as plt\n",
    "from sympy import *\n",
    "import scipy as sc\n",
    "from numpy import *\n",
    "init_printing()"
   ]
  },
  {
   "cell_type": "markdown",
   "metadata": {},
   "source": [
    "## The phytoplankton competition model \n",
    "\n",
    "The full model is identical to Tilman's ([1977](http://onlinelibrary.wiley.com/doi/10.2307/1935608/full), [1981](http://onlinelibrary.wiley.com/doi/10.2307/1937747/full)) two phytoplankton species' cell population densities competing for a single limiting nutrient ($S$) in a chemostat-type environment: \n",
    "\n",
    "$$ \\frac{dx_1}{dt} =  (\\mu_1 - D) N_1  = \\left(\\frac{\\mu_{m_1} S}{K_{s_1} + S} - D \\right)N_1$$\n",
    "$$ \\frac{dx_2}{dt} =  (\\mu_2 - D) N_2  = \\left(\\frac{\\mu_{m_2} S}{K_{s_2} + S} - D \\right)N_2$$\n",
    "$$ \\frac{dS}{dt} =  D(S_0-S) - \\sum_{i=1}^2 \\frac{\\alpha_i \\mu_{m_i} S}{K_{s_i}+ S}N_i$$\n",
    "\n",
    "Here, $N_i$ is the $i^{th}$ species density (cells·mL$^{-1}$), $\\mu_i $ is its realised growth rate (d$^{-1}$), $\\mu_{m_i}$ is its maximum growth rate in nutrient saturated conditions (d$^{-1}$), $K_{s_i}$ is the half-saturation constant (μmol·L$^{-1}$) (measure of performance at low nutrient concentrations), $S$ is the nutrient concentration (μmol·L$^{-1}$), D is dilution rate, and $S_0$ is the inflow concentration of the resource. The constant $\\alpha$ converts units of nutrient to phytoplankton cell units (1000·μmol·cell$^{-1}$); that is, it is the yield of species $i$ with respect to the limiting resource (inverse of number of phytoplankton cells produced per unit of resource). \n",
    "\n",
    "Setting $D = 0$, we get the version of the model relevant to our experimental system, which has no resource inflow or outflow:\n",
    "\n",
    "$$ \\frac{dx_1}{dt} =  \\mu_1 N_1  = \\frac{\\mu_{m_1} S}{K_{s_1} + S} N_1$$\n",
    "$$ \\frac{dx_2}{dt} =  \\mu_2 N_2  = \\frac{\\mu_{m_2} S}{K_{s_2} + S} N_2$$\n",
    "$$ \\frac{dS}{dt} =  - \\sum_{i=1}^2 \\frac{\\alpha_i \\mu_{m_i} S}{K_{s_i}+ S}N_i$$\n",
    "\n",
    "Our strategy is to quantify competitive *advantage* or relative fitness of the competing phytoplankton species in this resource-depleting environment, and how physiological mismatches affect this competitive advantage before resources run out. \n",
    "\n",
    "Using established methods([1](http://journals.plos.org/plosone/article?id=10.1371/journal.pone.0126210),[2](https://www.ncbi.nlm.nih.gov/pmc/articles/PMC113186/),[3](https://www.ncbi.nlm.nih.gov/pmc/articles/PMC240937/pdf/jvirol00049-0210.pdf)) in microbial cultures, we can quantify relative fitness in this system as the ratio of the realized growth rates of two populations while they compete for resources. This quantification is identical to the ratio of the number of doublings achieved by the two competitors in the exponential growth phase. That is, assuming exponential growth, in (at-least initially) non-limiting resource conditions, we have the solutions \n",
    "\n",
    "$$N_1(t) = N_1(0) e^{\\mu_1 t}$$\n",
    "\n",
    "$$N_2(t) = N_2(0) e^{\\mu_2 t}$$\n",
    "\n",
    "where $t$ is (clock) time. Then $R$, the fitness advantage of species 1 realtive to 2 is the logarithmic ratio, \n",
    "\n",
    "$$R = \\log \\frac{N_1(t)}{N_2(t)} = \\log \\frac{N_1(0) e^{\\mu_1 t}}{N_2(0) e^{\\mu_2 t}}                                  = \\log N_1(0) - \\log {N_2(0)} + (\\mu_1 - \\mu_2) t$$ \n",
    "\n",
    "And because experimentally, we set  $N_1(0) = N_2(0)$, the fitness advantage at any given time $t$ is simply\n",
    "\n",
    "$$R = (\\mu_1 - \\mu_2) t  = \\left( \\frac{\\mu_{m_1} S}{K_{s_1} + S} - \\frac{\\mu_{m_2} S}{K_{s_2} + S} \\right)t$$\n",
    "\n",
    "Now we can consider the limiting cases of $S \\rightarrow \\infty$ and $S \\rightarrow 0$ and substititute Boltzmann-Arrhenius TPCs for $\\mu_{m_i}$ and $K_{s_i}$. \n",
    "\n",
    "This will inevitably and inexorably lead us back to the magic approximation for the difference of two BA like TPCs we have used in Sofia's paper... the mismatches will then be in terms of the normalization constants vs. the activation energies ratios... \n"
   ]
  },
  {
   "cell_type": "markdown",
   "metadata": {},
   "source": [
    "### The thermal dependence of relative fitness within the OTR\n",
    "\n",
    "We can model the thermal response of relative fitness within the OTR by ignoring the parts of TPCs above $T_{\\text{pk}}$. This  can be done by simply keeping only the Boltzmann-Arrhenius equation part of the Sharpe-Schoolfield equation..."
   ]
  }
 ],
 "metadata": {
  "kernelspec": {
   "display_name": "Python 2",
   "language": "python",
   "name": "python2"
  },
  "language_info": {
   "codemirror_mode": {
    "name": "ipython",
    "version": 2
   },
   "file_extension": ".py",
   "mimetype": "text/x-python",
   "name": "python",
   "nbconvert_exporter": "python",
   "pygments_lexer": "ipython2",
   "version": "2.7.12"
  }
 },
 "nbformat": 4,
 "nbformat_minor": 0
}
