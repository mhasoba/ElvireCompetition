{
 "cells": [
  {
   "cell_type": "markdown",
   "metadata": {},
   "source": [
    "#  Theory for invasion and competition with metabolic mismatches"
   ]
  },
  {
   "cell_type": "code",
   "execution_count": 2,
   "metadata": {
    "collapsed": true
   },
   "outputs": [],
   "source": [
    "#Load some modules etc\n",
    "%matplotlib inline\n",
    "import matplotlib.pyplot as plt\n",
    "from sympy import *\n",
    "import scipy as sc\n",
    "from numpy import *\n",
    "init_printing()"
   ]
  },
  {
   "cell_type": "markdown",
   "metadata": {},
   "source": [
    "## The phytoplankton competition model \n",
    "\n",
    "The full model is identical to Tilman's ([1977](http://onlinelibrary.wiley.com/doi/10.2307/1935608/full), [1981](http://onlinelibrary.wiley.com/doi/10.2307/1937747/full)) two phytoplankton species' cell population densities competing for a single limiting nutrient ($S$) in a chemostat-type environment: \n",
    "\n",
    "$$ \\frac{dN_1}{dt} =  (\\mu_1 - D) N_1  = \\left(\\frac{\\mu_{\\text{m},1} S}{K_{S,1} + S} - D \\right)N_1$$\n",
    "$$ \\frac{dN_2}{dt} =  (\\mu_2 - D) N_2  = \\left(\\frac{\\mu_{\\text{m},2} S}{K_{S,2} + S} - D \\right)N_2$$\n",
    "$$ \\frac{dS}{dt} =  D(S_0-S) - \\sum_{i=1}^2 \\frac{\\alpha_i \\mu_{\\text{m},i} S}{K_{S,i}+ S}N_i$$\n",
    "\n",
    "Here, $N_i$ is the $i^{th}$ species density (cells·mL$^{-1}$), $\\mu_i $ is its realised growth rate (d$^{-1}$), $\\mu_{\\text{m},i}$ is its maximum growth rate in nutrient saturated conditions (d$^{-1}$), $K_{\\text{S},i}$ is the half-saturation constant (μmol·L$^{-1}$) (measure of performance at low nutrient concentrations), $S$ is the nutrient concentration (μmol·L$^{-1}$), $D$ is dilution rate, and $S_0$ is the inflow concentration of the resource. The constant $\\alpha$ converts units of nutrient to phytoplankton cell units (1000·μmol·cell$^{-1}$); that is, it is the yield of species $i$ with respect to the limiting resource (inverse of number of phytoplankton cells produced per unit of resource). \n",
    "\n",
    "Setting $D = 0$, we get the version of the model relevant to our experimental system, which has no resource inflow or outflow:\n",
    "\n",
    "$$ \\frac{dN_1}{dt} =  \\mu_1 N_1  = \\frac{\\mu_{\\text{m},1} S}{K_{S,1} + S} N_1$$\n",
    "$$ \\frac{dN_2}{dt} =  \\mu_2 N_2  = \\frac{\\mu_{\\text{m},2} S}{K_{S,2} + S} N_2$$\n",
    "$$ \\frac{dS}{dt} =  - \\sum_{i=1}^2 \\frac{\\alpha_i \\mu_{\\text{m},i} S}{K_{S,i}+ S}N_i.$$\n",
    "\n",
    "Our strategy is to quantify competitive *advantage* or relative fitness of the competing phytoplankton species in this resource-depleting environment, and how physiological mismatches affect this competitive advantage before resources run out. \n",
    "\n",
    "Using established methods([1](http://journals.plos.org/plosone/article?id=10.1371/journal.pone.0126210),[2](https://www.ncbi.nlm.nih.gov/pmc/articles/PMC113186/),[3](https://www.ncbi.nlm.nih.gov/pmc/articles/PMC240937/pdf/jvirol00049-0210.pdf)) in microbial cultures, we can quantify relative fitness in this system as the ratio of the realized growth rates of two populations while they compete for resources. This quantification is identical to the ratio of the number of doublings achieved by the two competitors in the exponential growth phase. That is, assuming exponential growth, in non-limiting resource conditions, we have the solutions \n",
    "\n",
    "$$N_1(t) = N_1(0) e^{\\mu_1 t},$$\n",
    "\n",
    "$$N_2(t) = N_2(0) e^{\\mu_2 t},$$\n",
    "\n",
    "where $t$ is (clock) time. Note that these equations now assume that $S$ does not significantly change over the course of an experiment; ideally this would be addressed, but we are unsure how for the time being. Then $R$, the fitness advantage of species 1 realtive to 2 is the logarithmic ratio, \n",
    "\n",
    "$$R = \\log \\frac{N_1(t)}{N_2(t)} = \\log \\frac{N_1(0) e^{\\mu_1 t}}{N_2(0) e^{\\mu_2 t}}                                  = \\log N_1(0) - \\log {N_2(0)} + (\\mu_1 - \\mu_2) t,$$\n",
    "\n",
    "and because experimentally, we set  $N_1(0) = N_2(0)$, the fitness advantage at any given time $t$ is simply\n",
    "\n",
    "$$R = (\\mu_1 - \\mu_2) t  = \\left( \\frac{\\mu_{m_1} S}{K_{S_1} + S} - \\frac{\\mu_{m_2} S}{K_{S_2} + S} \\right)t.$$\n",
    "\n",
    "Here, when $R>0$, species 1 is expected to outnumber species 2 at time $t$. When $S \\rightarrow \\infty$, $S / (K_S + S) \\rightarrow 1$, so $R \\approx (\\mu_{\\text{m},1} - \\mu_{\\text{m},2}) \\, t$. Therefore, at saturating nutrient conditions we expect fitness advantage to be determined by the difference in the species' $\\mu_\\text{m}$ values. However, as $S \\rightarrow 0$, $K_S$ is expected to be increasingly significant (and the assumptions behind the above solutions are less likely to hold).\n",
    "\n"
   ]
  },
  {
   "cell_type": "markdown",
   "metadata": {},
   "source": [
    "### The thermal dependence of relative fitness within the OTR\n",
    "\n",
    "We can model the thermal response of relative fitness within the OTR by ignoring the parts of TPCs above $T_{\\text{pk}}$. One option would be to assume that for $T \\leq 25^\\circ$C (therefore including the high temperature used in the competition experiments), growth increases with temperature as a Boltzmann-Arrhenius function (although we could consider other alternatives too). From Reuman *et al.* (2014) we also expect $K_S$ to increase exponentially with temperature (although your $K_S$ often dip back down at the higher temperatures). This gives us\n",
    "\n",
    "$$R = S \\left(\\frac{B_{0,1} \\, \\exp\\left(\\dfrac{-E_{\\text{m},1}}{k} \\, \\left(\\dfrac{1}{T} - \\dfrac{1}{T_\\text{ref}}\\right)\\right)}{K_{0,1} \\, \\exp\\left(\\dfrac{-E_{K,1}}{k} \\, \\left(\\dfrac{1}{T} - \\dfrac{1}{T_\\text{ref}}\\right)\\right) + S} -\n",
    "\\frac{B_{0,2} \\, \\exp\\left(\\dfrac{-E_{\\text{m},2}}{k} \\, \\left(\\dfrac{1}{T} - \\dfrac{1}{T_\\text{ref}}\\right)\\right)}{K_{0,2} \\, \\exp\\left(\\dfrac{-E_{K,2}}{k} \\, \\left(\\dfrac{1}{T} - \\dfrac{1}{T_\\text{ref}}\\right)\\right) + S} \\right) \\, t.$$\n",
    "\n",
    "We can use this as it is, but it is unwieldy to extract any clear lessons here because there are four sets of inequalities. An approximation here does not help in this regard. The only way we could simplify this is if some of the mismatches are not statistically significantly different across species (a preliminary but not thorough look suggests this is unlikely). \n",
    "\n",
    "At high nutrient concentrations (which are more relevant to this manuscript), we are left with\n",
    "\n",
    "$$R \\approx \\left(B_{0,1} \\, \\exp \\left(-\\frac{E_{\\text{m},1}}{k} \\, \\left(\\frac{1}{T} - \\frac{1}{T_\\text{ref}}\\right)\\right) - B_{0,2} \\, \\exp \\left(-\\frac{E_{\\text{m},2}}{k} \\, \\left(\\frac{1}{T} - \\frac{1}{T_\\text{ref}}\\right)\\right)\\right) \\, t. $$\n",
    "\n",
    "If \n",
    "\n",
    "$$\\ln \\frac{B_{0,1}}{B_{0,2}} > \\frac{E_{\\text{m},1} - E_{\\text{m},2}}{k} \\, \\left(\\frac{1}{T} - \\frac{1}{T_\\text{ref}}\\right)$$\n",
    "\n",
    "is met, then $R>0$ and species 1 is expected to outnumber species 2 at temperature $T$. Furthermore, we can find whether the outcome flips within a temperature range by checking whether\n",
    "\n",
    "$$T_\\text{flip} = \\frac{E_{\\text{m},1} - E_{\\text{m},2}}{k \\, \\left[\\ln \\dfrac{B_{0,1}}{B_{0,2}} + \\dfrac{E_{\\text{m},1}- E_{\\text{m},2}}{k \\, T_\\text{ref}}\\right]}.$$\n",
    "\n",
    "is within the temperature range of the experiments ($15^\\circ$C $\\leq T \\leq 25^\\circ$C). To be precise, for $T_\\text{flip}$ to fall within a range $T_\\text{low} \\leq T_\\text{flip} \\leq T_\\text{high}$, the following conditions would need to be met:\n",
    "\n",
    "$$\\frac{E_{\\text{m},1} - E_{\\text{m},2}}{k} \\, \\left(\\frac{1}{T_\\text{high}} - \\frac{1}{T_\\text{ref}}\\right) \\leq \\ln \\frac{B_{0,1}}{B_{0,2}} \\leq \\frac{E_{\\text{m},1} - E_{\\text{m},2}}{k} \\, \\left(\\frac{1}{T_\\text{low}} - \\frac{1}{T_\\text{ref}}\\right),$$\n",
    "\n",
    "and if $T_\\text{ref} = T_\\text{low}$,\n",
    "\n",
    "$$\\frac{E_{\\text{m},1} - E_{\\text{m},2}}{k} \\, \\left(\\frac{1}{T_\\text{high}} - \\frac{1}{T_\\text{low}}\\right) \\leq \\ln \\frac{B_{0,1}}{B_{0,2}} \\leq 0.$$\n",
    "\n",
    "I'm frankly not convinced this last bit is of any use. The $T_\\text{flip}$ for nutrient limited conditions can be found numerically (analytically trickier).\n",
    "\n",
    "Finally, if a competition outcome flips within the temperature range, the flip is expected to come about due to the difference in activation energies alone: if $E_{\\text{m},1}>E_{\\text{m},2}$, then the competition should flip in favour of species 1 at higher temperatures.\n"
   ]
  }
 ],
 "metadata": {
  "kernelspec": {
   "display_name": "Python 2",
   "language": "python",
   "name": "python2"
  },
  "language_info": {
   "codemirror_mode": {
    "name": "ipython",
    "version": 2
   },
   "file_extension": ".py",
   "mimetype": "text/x-python",
   "name": "python",
   "nbconvert_exporter": "python",
   "pygments_lexer": "ipython2",
   "version": "2.7.6"
  }
 },
 "nbformat": 4,
 "nbformat_minor": 1
}
