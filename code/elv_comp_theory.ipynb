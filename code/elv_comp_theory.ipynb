{
 "cells": [
  {
   "cell_type": "markdown",
   "metadata": {},
   "source": [
    "#  Theory for invasion and competition with metabolic mismatches"
   ]
  },
  {
   "cell_type": "code",
   "execution_count": 2,
   "metadata": {},
   "outputs": [],
   "source": [
    "#Load some modules etc\n",
    "%matplotlib inline\n",
    "import matplotlib.pyplot as plt\n",
    "from sympy import *\n",
    "import scipy as sc\n",
    "from numpy import *\n",
    "init_printing()"
   ]
  },
  {
   "cell_type": "markdown",
   "metadata": {},
   "source": [
    "## The phytoplankton competition model \n",
    "\n",
    "The full model is identical to Tilman's ([1977](http://onlinelibrary.wiley.com/doi/10.2307/1935608/full), [1981](http://onlinelibrary.wiley.com/doi/10.2307/1937747/full)) two phytoplankton species' cell population densities competing for a single limiting nutrient ($S$) in a chemostat-type environment: \n",
    "\n",
    "$$ \\frac{dx_1}{dt} =  (\\mu_1 - D) N_1  = \\left(\\frac{\\mu_{m_1} S}{K_{S_1} + S} - D \\right)N_1$$\n",
    "$$ \\frac{dx_2}{dt} =  (\\mu_2 - D) N_2  = \\left(\\frac{\\mu_{m_2} S}{K_{S_2} + S} - D \\right)N_2$$\n",
    "$$ \\frac{dS}{dt} =  D(S_0-S) - \\sum_{i=1}^2 \\frac{\\alpha_i \\mu_{m_i} S}{K_{S_i}+ S}N_i$$\n",
    "\n",
    "Here, $N_i$ is the $i^{th}$ species density (cells·mL$^{-1}$), $\\mu_i $ is its realised growth rate (d$^{-1}$), $\\mu_{m_i}$ is its maximum growth rate in nutrient saturated conditions (d$^{-1}$), $K_{s_i}$ is the half-saturation constant (μmol·L$^{-1}$) (measure of performance at low nutrient concentrations), $S$ is the nutrient concentration (μmol·L$^{-1}$), D is dilution rate, and $S_0$ is the inflow concentration of the resource. The constant $\\alpha$ converts units of nutrient to phytoplankton cell units (1000·μmol·cell$^{-1}$); that is, it is the yield of species $i$ with respect to the limiting resource (inverse of number of phytoplankton cells produced per unit of resource). \n",
    "\n",
    "Setting $D = 0$, we get the version of the model relevant to our experimental system, which has no resource inflow or outflow:\n",
    "\n",
    "$$ \\frac{dx_1}{dt} =  \\mu_1 N_1  = \\frac{\\mu_{m_1} S}{K_{S_1} + S} N_1$$\n",
    "$$ \\frac{dx_2}{dt} =  \\mu_2 N_2  = \\frac{\\mu_{m_2} S}{K_{S_2} + S} N_2$$\n",
    "$$ \\frac{dS}{dt} =  - \\sum_{i=1}^2 \\frac{\\alpha_i \\mu_{m_i} S}{K_{S_i}+ S}N_i.$$\n",
    "\n",
    "Our strategy is to quantify competitive *advantage* or relative fitness of the competing phytoplankton species in this resource-depleting environment, and how physiological mismatches affect this competitive advantage before resources run out. \n",
    "\n",
    "Using established methods([1](http://journals.plos.org/plosone/article?id=10.1371/journal.pone.0126210),[2](https://www.ncbi.nlm.nih.gov/pmc/articles/PMC113186/),[3](https://www.ncbi.nlm.nih.gov/pmc/articles/PMC240937/pdf/jvirol00049-0210.pdf)) in microbial cultures, we can quantify relative fitness in this system as the ratio of the realized growth rates of two populations while they compete for resources. This quantification is identical to the ratio of the number of doublings achieved by the two competitors in the exponential growth phase. That is, assuming exponential growth, in non-limiting resource conditions, we have the solutions \n",
    "\n",
    "$$N_1(t) = N_1(0) e^{\\mu_1 t},$$\n",
    "\n",
    "$$N_2(t) = N_2(0) e^{\\mu_2 t},$$\n",
    "\n",
    "where $t$ is (clock) time. Note that these equations now assume that $S$ does not significantly change over the course of an experiment; ideally this would be addressed, but we are unsure how. Then $R$, the fitness advantage of species 1 realtive to 2 is the logarithmic ratio, \n",
    "\n",
    "$$R = \\log \\frac{N_1(t)}{N_2(t)} = \\log \\frac{N_1(0) e^{\\mu_1 t}}{N_2(0) e^{\\mu_2 t}}                                  = \\log N_1(0) - \\log {N_2(0)} + (\\mu_1 - \\mu_2) t,$$\n",
    "\n",
    "and because experimentally, we set  $N_1(0) = N_2(0)$, the fitness advantage at any given time $t$ is simply\n",
    "\n",
    "$$R = (\\mu_1 - \\mu_2) t  = \\left( \\frac{\\mu_{m_1} S}{K_{S_1} + S} - \\frac{\\mu_{m_2} S}{K_{S_2} + S} \\right)t.$$\n",
    "\n",
    "When $S \\rightarrow \\infty$, $S / (K_S + S) \\rightarrow 1$, so $R \\approx (\\mu_{m_1} - \\mu_{m_2}) \\, t$. Therefore, at saturating nutrient conditions we expect fitness advantage to be determined by the difference in the species' $\\mu_m$ values. However, as $S \\rightarrow 0$, $K_S$ is expected to be increasingly significant (and the assumptions behind the exponential equations less likely to hold).\n",
    "\n",
    "This will inevitably and inexorably lead us back to the magic approximation for the difference of two BA like TPCs we have used in Sofia's paper... the mismatches will then be in terms of the normalization constants vs. the activation energies ratios... \n"
   ]
  },
  {
   "cell_type": "markdown",
   "metadata": {},
   "source": [
    "### The thermal dependence of relative fitness within the OTR\n",
    "\n",
    "We can model the thermal response of relative fitness within the OTR by ignoring the parts of TPCs above $T_{\\text{pk}}$. One option would be to assume that for $T \\leq 25^\\circ$C (therefore including the high temperature used in the competition experiments), growth increases with temperature as a Boltzmann-Arrhenius function. From Reuman *et al.* (2014) we also expect $K_S$ to increase exponentially with temperature (although your $K_S$ often dip back down at the higher temperatures). At high nutrient concentrations (which are more relevant to this manuscript), we would be left with\n",
    "\n",
    "$$R \\approx \\left(B_{0,1} \\, \\exp \\left(-\\frac{E_{m,1}}{k} \\, \\left(\\frac{1}{T} - \\frac{1}{T_\\text{ref}}\\right)\\right) - B_{0,2} \\, \\exp \\left(-\\frac{E_{m,2}}{k} \\, \\left(\\frac{1}{T} - \\frac{1}{T_\\text{ref}}\\right)\\right)\\right) \\, t. $$\n",
    "\n",
    "We could alternatively use a linear function to describe the increase in $\\mu_m$ with $T$, which would result in\n",
    "\n",
    "$$R \\approx (\\alpha_1 - \\alpha_2 + (\\beta_1 - \\beta_2) \\,T) \\, t.$$\n",
    "\n",
    "We could then have a second Table along the lines of the one I have already put in, but this one quantifying how well mismatches in $B_0$ and $E_m$ or $\\alpha$ and $\\beta$ predict the binary outcomes of competition. \n",
    "\n",
    "For low nutrient concentrations, again, the picture would become a lot murkier, and there would be four sets of mismatches. We could, based on the first Table, argue that results clearly show that $K_S$ never winds up playing a substantial role in determining competitive outcomes, and only then work with the simplification based on nutrient saturation."
   ]
  }
 ],
 "metadata": {
  "kernelspec": {
   "display_name": "Python 2",
   "language": "python",
   "name": "python2"
  },
  "language_info": {
   "codemirror_mode": {
    "name": "ipython",
    "version": 2
   },
   "file_extension": ".py",
   "mimetype": "text/x-python",
   "name": "python",
   "nbconvert_exporter": "python",
   "pygments_lexer": "ipython2",
   "version": "2.7.6"
  }
 },
 "nbformat": 4,
 "nbformat_minor": 1
}
